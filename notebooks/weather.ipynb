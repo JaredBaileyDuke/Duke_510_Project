{
 "cells": [
  {
   "cell_type": "code",
   "execution_count": 73,
   "metadata": {},
   "outputs": [],
   "source": [
    "import pandas as pd\n",
    "import requests\n",
    "import json\n",
    "from tqdm import tqdm\n",
    "from datetime import datetime"
   ]
  },
  {
   "cell_type": "code",
   "execution_count": 82,
   "metadata": {},
   "outputs": [],
   "source": [
    "weather_api = \"2E77DVCLM49UBP63J8XCDV8WU\"\n",
    "\n",
    "base_dataset = pd.read_csv(\"Base Dataset V2.csv\")\n",
    "\n",
    "base_dataset[\"Date\"] = pd.to_datetime(base_dataset[\"Date\"], format=\"%m/%d/%Y\")"
   ]
  },
  {
   "cell_type": "code",
   "execution_count": 83,
   "metadata": {},
   "outputs": [],
   "source": [
    "dates = base_dataset[\"Date\"].tolist()"
   ]
  },
  {
   "cell_type": "code",
   "execution_count": 84,
   "metadata": {},
   "outputs": [
    {
     "data": {
      "text/plain": [
       "['2016-09-03', '2016-09-10', '2016-10-01', '2016-10-08', '2016-11-05']"
      ]
     },
     "execution_count": 84,
     "metadata": {},
     "output_type": "execute_result"
    }
   ],
   "source": [
    "dates = [date.strftime(\"%Y-%m-%d\") for date in dates]\n",
    "\n",
    "dates[:5]"
   ]
  },
  {
   "cell_type": "code",
   "execution_count": 94,
   "metadata": {},
   "outputs": [
    {
     "data": {
      "text/plain": [
       "147"
      ]
     },
     "execution_count": 94,
     "metadata": {},
     "output_type": "execute_result"
    }
   ],
   "source": [
    "len(dates)"
   ]
  },
  {
   "cell_type": "code",
   "execution_count": 87,
   "metadata": {},
   "outputs": [],
   "source": [
    "weather_df = pd.DataFrame()"
   ]
  },
  {
   "cell_type": "code",
   "execution_count": 91,
   "metadata": {},
   "outputs": [],
   "source": [
    "column_names = ['tempmax', 'tempmin', 'temp', 'feelslikemax', 'feelslikemin', 'feelslike', 'dew', 'humidity', 'pressure', 'visibility', 'windspeed', 'icon']\n",
    "\n",
    "weather_df = pd.DataFrame(pd.DataFrame(index=range(len(base_dataset)), columns=column_names))\n",
    "\n",
    "weather_df['date'] = dates"
   ]
  },
  {
   "cell_type": "code",
   "execution_count": 92,
   "metadata": {},
   "outputs": [
    {
     "name": "stderr",
     "output_type": "stream",
     "text": [
      "147it [01:54,  1.29it/s]\n"
     ]
    }
   ],
   "source": [
    "for idx, row in tqdm(weather_df.iterrows()):\n",
    "    date = row[\"date\"]\n",
    "\n",
    "    url = f\"https://weather.visualcrossing.com/VisualCrossingWebServices/rest/services/timeline/Durham%2CUS/{date}/{date}?unitGroup=metric&key={weather_api}\"\n",
    "\n",
    "    response = requests.get(url)\n",
    "\n",
    "    if response.status_code == 200:\n",
    "        data = json.loads(response.text)\n",
    "        weather_data = data[\"days\"][0]\n",
    "\n",
    "        for column in column_names:\n",
    "            weather_df.loc[idx, column] = weather_data[column]"
   ]
  },
  {
   "cell_type": "code",
   "execution_count": 93,
   "metadata": {},
   "outputs": [
    {
     "data": {
      "text/html": [
       "<div>\n",
       "<style scoped>\n",
       "    .dataframe tbody tr th:only-of-type {\n",
       "        vertical-align: middle;\n",
       "    }\n",
       "\n",
       "    .dataframe tbody tr th {\n",
       "        vertical-align: top;\n",
       "    }\n",
       "\n",
       "    .dataframe thead th {\n",
       "        text-align: right;\n",
       "    }\n",
       "</style>\n",
       "<table border=\"1\" class=\"dataframe\">\n",
       "  <thead>\n",
       "    <tr style=\"text-align: right;\">\n",
       "      <th></th>\n",
       "      <th>tempmax</th>\n",
       "      <th>tempmin</th>\n",
       "      <th>temp</th>\n",
       "      <th>feelslikemax</th>\n",
       "      <th>feelslikemin</th>\n",
       "      <th>feelslike</th>\n",
       "      <th>dew</th>\n",
       "      <th>humidity</th>\n",
       "      <th>pressure</th>\n",
       "      <th>visibility</th>\n",
       "      <th>windspeed</th>\n",
       "      <th>icon</th>\n",
       "      <th>date</th>\n",
       "    </tr>\n",
       "  </thead>\n",
       "  <tbody>\n",
       "    <tr>\n",
       "      <th>0</th>\n",
       "      <td>26.0</td>\n",
       "      <td>17.7</td>\n",
       "      <td>20.9</td>\n",
       "      <td>26.0</td>\n",
       "      <td>17.7</td>\n",
       "      <td>20.9</td>\n",
       "      <td>17.1</td>\n",
       "      <td>80.2</td>\n",
       "      <td>1015.7</td>\n",
       "      <td>14.3</td>\n",
       "      <td>25.0</td>\n",
       "      <td>rain</td>\n",
       "      <td>2016-09-03</td>\n",
       "    </tr>\n",
       "    <tr>\n",
       "      <th>1</th>\n",
       "      <td>33.0</td>\n",
       "      <td>22.9</td>\n",
       "      <td>27.1</td>\n",
       "      <td>36.9</td>\n",
       "      <td>22.9</td>\n",
       "      <td>28.8</td>\n",
       "      <td>21.7</td>\n",
       "      <td>73.1</td>\n",
       "      <td>1016.9</td>\n",
       "      <td>15.5</td>\n",
       "      <td>17.8</td>\n",
       "      <td>partly-cloudy-day</td>\n",
       "      <td>2016-09-10</td>\n",
       "    </tr>\n",
       "    <tr>\n",
       "      <th>2</th>\n",
       "      <td>28.1</td>\n",
       "      <td>18.6</td>\n",
       "      <td>22.4</td>\n",
       "      <td>27.8</td>\n",
       "      <td>18.6</td>\n",
       "      <td>22.4</td>\n",
       "      <td>17.7</td>\n",
       "      <td>78.2</td>\n",
       "      <td>1017.2</td>\n",
       "      <td>12.7</td>\n",
       "      <td>19.7</td>\n",
       "      <td>rain</td>\n",
       "      <td>2016-10-01</td>\n",
       "    </tr>\n",
       "    <tr>\n",
       "      <th>3</th>\n",
       "      <td>21.5</td>\n",
       "      <td>17.6</td>\n",
       "      <td>19.9</td>\n",
       "      <td>21.5</td>\n",
       "      <td>17.6</td>\n",
       "      <td>19.9</td>\n",
       "      <td>19.0</td>\n",
       "      <td>94.5</td>\n",
       "      <td>1009.6</td>\n",
       "      <td>8.1</td>\n",
       "      <td>37.2</td>\n",
       "      <td>rain</td>\n",
       "      <td>2016-10-08</td>\n",
       "    </tr>\n",
       "    <tr>\n",
       "      <th>4</th>\n",
       "      <td>18.2</td>\n",
       "      <td>3.4</td>\n",
       "      <td>10.0</td>\n",
       "      <td>18.2</td>\n",
       "      <td>3.4</td>\n",
       "      <td>10.0</td>\n",
       "      <td>4.1</td>\n",
       "      <td>71.4</td>\n",
       "      <td>1026.7</td>\n",
       "      <td>15.7</td>\n",
       "      <td>17.1</td>\n",
       "      <td>clear-day</td>\n",
       "      <td>2016-11-05</td>\n",
       "    </tr>\n",
       "    <tr>\n",
       "      <th>...</th>\n",
       "      <td>...</td>\n",
       "      <td>...</td>\n",
       "      <td>...</td>\n",
       "      <td>...</td>\n",
       "      <td>...</td>\n",
       "      <td>...</td>\n",
       "      <td>...</td>\n",
       "      <td>...</td>\n",
       "      <td>...</td>\n",
       "      <td>...</td>\n",
       "      <td>...</td>\n",
       "      <td>...</td>\n",
       "      <td>...</td>\n",
       "    </tr>\n",
       "    <tr>\n",
       "      <th>142</th>\n",
       "      <td>7.6</td>\n",
       "      <td>2.8</td>\n",
       "      <td>4.6</td>\n",
       "      <td>5.6</td>\n",
       "      <td>-2.2</td>\n",
       "      <td>1.5</td>\n",
       "      <td>2.9</td>\n",
       "      <td>89.1</td>\n",
       "      <td>1009.9</td>\n",
       "      <td>7.6</td>\n",
       "      <td>27.1</td>\n",
       "      <td>rain</td>\n",
       "      <td>2023-02-12</td>\n",
       "    </tr>\n",
       "    <tr>\n",
       "      <th>143</th>\n",
       "      <td>27.9</td>\n",
       "      <td>17.7</td>\n",
       "      <td>21.8</td>\n",
       "      <td>28.7</td>\n",
       "      <td>17.7</td>\n",
       "      <td>22.0</td>\n",
       "      <td>16.7</td>\n",
       "      <td>73.9</td>\n",
       "      <td>1015.5</td>\n",
       "      <td>16.0</td>\n",
       "      <td>32.4</td>\n",
       "      <td>rain</td>\n",
       "      <td>2023-02-23</td>\n",
       "    </tr>\n",
       "    <tr>\n",
       "      <th>144</th>\n",
       "      <td>13.2</td>\n",
       "      <td>8.0</td>\n",
       "      <td>10.2</td>\n",
       "      <td>13.2</td>\n",
       "      <td>7.4</td>\n",
       "      <td>10.1</td>\n",
       "      <td>7.8</td>\n",
       "      <td>85.2</td>\n",
       "      <td>1017.0</td>\n",
       "      <td>14.5</td>\n",
       "      <td>22.0</td>\n",
       "      <td>cloudy</td>\n",
       "      <td>2023-02-26</td>\n",
       "    </tr>\n",
       "    <tr>\n",
       "      <th>145</th>\n",
       "      <td>15.8</td>\n",
       "      <td>8.0</td>\n",
       "      <td>11.5</td>\n",
       "      <td>15.8</td>\n",
       "      <td>6.3</td>\n",
       "      <td>11.2</td>\n",
       "      <td>2.7</td>\n",
       "      <td>59.4</td>\n",
       "      <td>1010.5</td>\n",
       "      <td>14.5</td>\n",
       "      <td>21.1</td>\n",
       "      <td>rain</td>\n",
       "      <td>2023-03-18</td>\n",
       "    </tr>\n",
       "    <tr>\n",
       "      <th>146</th>\n",
       "      <td>11.8</td>\n",
       "      <td>-1.4</td>\n",
       "      <td>4.9</td>\n",
       "      <td>11.8</td>\n",
       "      <td>-3.4</td>\n",
       "      <td>3.9</td>\n",
       "      <td>-7.9</td>\n",
       "      <td>40.8</td>\n",
       "      <td>1026.8</td>\n",
       "      <td>16.0</td>\n",
       "      <td>16.4</td>\n",
       "      <td>partly-cloudy-day</td>\n",
       "      <td>2023-03-20</td>\n",
       "    </tr>\n",
       "  </tbody>\n",
       "</table>\n",
       "<p>147 rows × 13 columns</p>\n",
       "</div>"
      ],
      "text/plain": [
       "    tempmax tempmin  temp feelslikemax feelslikemin feelslike   dew humidity  \\\n",
       "0      26.0    17.7  20.9         26.0         17.7      20.9  17.1     80.2   \n",
       "1      33.0    22.9  27.1         36.9         22.9      28.8  21.7     73.1   \n",
       "2      28.1    18.6  22.4         27.8         18.6      22.4  17.7     78.2   \n",
       "3      21.5    17.6  19.9         21.5         17.6      19.9  19.0     94.5   \n",
       "4      18.2     3.4  10.0         18.2          3.4      10.0   4.1     71.4   \n",
       "..      ...     ...   ...          ...          ...       ...   ...      ...   \n",
       "142     7.6     2.8   4.6          5.6         -2.2       1.5   2.9     89.1   \n",
       "143    27.9    17.7  21.8         28.7         17.7      22.0  16.7     73.9   \n",
       "144    13.2     8.0  10.2         13.2          7.4      10.1   7.8     85.2   \n",
       "145    15.8     8.0  11.5         15.8          6.3      11.2   2.7     59.4   \n",
       "146    11.8    -1.4   4.9         11.8         -3.4       3.9  -7.9     40.8   \n",
       "\n",
       "    pressure visibility windspeed               icon        date  \n",
       "0     1015.7       14.3      25.0               rain  2016-09-03  \n",
       "1     1016.9       15.5      17.8  partly-cloudy-day  2016-09-10  \n",
       "2     1017.2       12.7      19.7               rain  2016-10-01  \n",
       "3     1009.6        8.1      37.2               rain  2016-10-08  \n",
       "4     1026.7       15.7      17.1          clear-day  2016-11-05  \n",
       "..       ...        ...       ...                ...         ...  \n",
       "142   1009.9        7.6      27.1               rain  2023-02-12  \n",
       "143   1015.5       16.0      32.4               rain  2023-02-23  \n",
       "144   1017.0       14.5      22.0             cloudy  2023-02-26  \n",
       "145   1010.5       14.5      21.1               rain  2023-03-18  \n",
       "146   1026.8       16.0      16.4  partly-cloudy-day  2023-03-20  \n",
       "\n",
       "[147 rows x 13 columns]"
      ]
     },
     "execution_count": 93,
     "metadata": {},
     "output_type": "execute_result"
    }
   ],
   "source": [
    "weather_df"
   ]
  },
  {
   "cell_type": "code",
   "execution_count": 79,
   "metadata": {},
   "outputs": [],
   "source": [
    "base_dataset.to_csv(\"attendance_weather.csv\", index=False)"
   ]
  },
  {
   "cell_type": "code",
   "execution_count": null,
   "metadata": {},
   "outputs": [],
   "source": []
  }
 ],
 "metadata": {
  "kernelspec": {
   "display_name": "aipi510",
   "language": "python",
   "name": "python3"
  },
  "language_info": {
   "codemirror_mode": {
    "name": "ipython",
    "version": 3
   },
   "file_extension": ".py",
   "mimetype": "text/x-python",
   "name": "python",
   "nbconvert_exporter": "python",
   "pygments_lexer": "ipython3",
   "version": "3.10.13"
  }
 },
 "nbformat": 4,
 "nbformat_minor": 2
}
