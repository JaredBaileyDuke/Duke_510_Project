{
 "cells": [
  {
   "cell_type": "markdown",
   "id": "6eb7aa8c",
   "metadata": {},
   "source": [
    "let's make the UI base"
   ]
  },
  {
   "cell_type": "code",
   "execution_count": 5,
   "id": "a4e5da2c",
   "metadata": {},
   "outputs": [
    {
     "name": "stderr",
     "output_type": "stream",
     "text": [
      "UsageError: Cell magic `%%streamlit` not found.\n"
     ]
    }
   ],
   "source": [
    "%%streamlit\n",
    "import streamlit as st\n",
    "\n",
    "def main():\n",
    "    st.title(\"Welcome to Your Streamlit Homepage\")\n",
    "    st.write(\"This is a simple homepage created with Streamlit.\")\n",
    "\n",
    "    # Add more content or features as needed\n",
    "    st.write(\"Feel free to customize and enhance this homepage!\")\n"
   ]
  },
  {
   "cell_type": "code",
   "execution_count": 6,
   "id": "ed16e41d",
   "metadata": {},
   "outputs": [],
   "source": [
    "main()"
   ]
  },
  {
   "cell_type": "code",
   "execution_count": null,
   "id": "de976ced",
   "metadata": {},
   "outputs": [],
   "source": []
  }
 ],
 "metadata": {
  "kernelspec": {
   "display_name": "Python 3 (ipykernel)",
   "language": "python",
   "name": "python3"
  },
  "language_info": {
   "codemirror_mode": {
    "name": "ipython",
    "version": 3
   },
   "file_extension": ".py",
   "mimetype": "text/x-python",
   "name": "python",
   "nbconvert_exporter": "python",
   "pygments_lexer": "ipython3",
   "version": "3.10.10"
  }
 },
 "nbformat": 4,
 "nbformat_minor": 5
}
